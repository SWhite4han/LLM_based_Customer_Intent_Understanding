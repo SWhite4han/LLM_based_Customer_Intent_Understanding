{
  "nbformat": 4,
  "nbformat_minor": 0,
  "metadata": {
    "colab": {
      "provenance": [],
      "gpuType": "T4",
      "authorship_tag": "ABX9TyMXZrH2NYRtATOXiUzuHZJk",
      "include_colab_link": true
    },
    "kernelspec": {
      "name": "python3",
      "display_name": "Python 3"
    },
    "language_info": {
      "name": "python"
    },
    "accelerator": "GPU"
  },
  "cells": [
    {
      "cell_type": "markdown",
      "metadata": {
        "id": "view-in-github",
        "colab_type": "text"
      },
      "source": [
        "<a href=\"https://colab.research.google.com/github/SWhite4han/LLM_based_Customer_Intent_Understanding/blob/main/LLM.ipynb\" target=\"_parent\"><img src=\"https://colab.research.google.com/assets/colab-badge.svg\" alt=\"Open In Colab\"/></a>"
      ]
    },
    {
      "cell_type": "code",
      "execution_count": 3,
      "metadata": {
        "colab": {
          "base_uri": "https://localhost:8080/"
        },
        "id": "T6Qzf2OQv0ZN",
        "outputId": "3e9ed845-1d5a-48c4-cb5a-72d216c12820"
      },
      "outputs": [
        {
          "output_type": "stream",
          "name": "stdout",
          "text": [
            "Collecting git+https://github.com/openai/whisper.git\n",
            "  Cloning https://github.com/openai/whisper.git to /tmp/pip-req-build-ubhfklxa\n",
            "  Running command git clone --filter=blob:none --quiet https://github.com/openai/whisper.git /tmp/pip-req-build-ubhfklxa\n",
            "  Resolved https://github.com/openai/whisper.git to commit ba3f3cd54b0e5b8ce1ab3de13e32122d0d5f98ab\n",
            "  Installing build dependencies ... \u001b[?25l\u001b[?25hdone\n",
            "  Getting requirements to build wheel ... \u001b[?25l\u001b[?25hdone\n",
            "  Preparing metadata (pyproject.toml) ... \u001b[?25l\u001b[?25hdone\n",
            "Requirement already satisfied: numba in /usr/local/lib/python3.10/dist-packages (from openai-whisper==20231117) (0.58.1)\n",
            "Requirement already satisfied: numpy in /usr/local/lib/python3.10/dist-packages (from openai-whisper==20231117) (1.23.5)\n",
            "Requirement already satisfied: torch in /usr/local/lib/python3.10/dist-packages (from openai-whisper==20231117) (2.1.0+cu121)\n",
            "Requirement already satisfied: tqdm in /usr/local/lib/python3.10/dist-packages (from openai-whisper==20231117) (4.66.1)\n",
            "Requirement already satisfied: more-itertools in /usr/local/lib/python3.10/dist-packages (from openai-whisper==20231117) (10.1.0)\n",
            "Collecting tiktoken (from openai-whisper==20231117)\n",
            "  Downloading tiktoken-0.5.2-cp310-cp310-manylinux_2_17_x86_64.manylinux2014_x86_64.whl (2.0 MB)\n",
            "\u001b[2K     \u001b[90m━━━━━━━━━━━━━━━━━━━━━━━━━━━━━━━━━━━━━━━━\u001b[0m \u001b[32m2.0/2.0 MB\u001b[0m \u001b[31m15.5 MB/s\u001b[0m eta \u001b[36m0:00:00\u001b[0m\n",
            "\u001b[?25hRequirement already satisfied: triton<3,>=2.0.0 in /usr/local/lib/python3.10/dist-packages (from openai-whisper==20231117) (2.1.0)\n",
            "Requirement already satisfied: filelock in /usr/local/lib/python3.10/dist-packages (from triton<3,>=2.0.0->openai-whisper==20231117) (3.13.1)\n",
            "Requirement already satisfied: llvmlite<0.42,>=0.41.0dev0 in /usr/local/lib/python3.10/dist-packages (from numba->openai-whisper==20231117) (0.41.1)\n",
            "Requirement already satisfied: regex>=2022.1.18 in /usr/local/lib/python3.10/dist-packages (from tiktoken->openai-whisper==20231117) (2023.12.25)\n",
            "Requirement already satisfied: requests>=2.26.0 in /usr/local/lib/python3.10/dist-packages (from tiktoken->openai-whisper==20231117) (2.31.0)\n",
            "Requirement already satisfied: typing-extensions in /usr/local/lib/python3.10/dist-packages (from torch->openai-whisper==20231117) (4.5.0)\n",
            "Requirement already satisfied: sympy in /usr/local/lib/python3.10/dist-packages (from torch->openai-whisper==20231117) (1.12)\n",
            "Requirement already satisfied: networkx in /usr/local/lib/python3.10/dist-packages (from torch->openai-whisper==20231117) (3.2.1)\n",
            "Requirement already satisfied: jinja2 in /usr/local/lib/python3.10/dist-packages (from torch->openai-whisper==20231117) (3.1.3)\n",
            "Requirement already satisfied: fsspec in /usr/local/lib/python3.10/dist-packages (from torch->openai-whisper==20231117) (2023.6.0)\n",
            "Requirement already satisfied: charset-normalizer<4,>=2 in /usr/local/lib/python3.10/dist-packages (from requests>=2.26.0->tiktoken->openai-whisper==20231117) (3.3.2)\n",
            "Requirement already satisfied: idna<4,>=2.5 in /usr/local/lib/python3.10/dist-packages (from requests>=2.26.0->tiktoken->openai-whisper==20231117) (3.6)\n",
            "Requirement already satisfied: urllib3<3,>=1.21.1 in /usr/local/lib/python3.10/dist-packages (from requests>=2.26.0->tiktoken->openai-whisper==20231117) (2.0.7)\n",
            "Requirement already satisfied: certifi>=2017.4.17 in /usr/local/lib/python3.10/dist-packages (from requests>=2.26.0->tiktoken->openai-whisper==20231117) (2023.11.17)\n",
            "Requirement already satisfied: MarkupSafe>=2.0 in /usr/local/lib/python3.10/dist-packages (from jinja2->torch->openai-whisper==20231117) (2.1.4)\n",
            "Requirement already satisfied: mpmath>=0.19 in /usr/local/lib/python3.10/dist-packages (from sympy->torch->openai-whisper==20231117) (1.3.0)\n",
            "Building wheels for collected packages: openai-whisper\n",
            "  Building wheel for openai-whisper (pyproject.toml) ... \u001b[?25l\u001b[?25hdone\n",
            "  Created wheel for openai-whisper: filename=openai_whisper-20231117-py3-none-any.whl size=802825 sha256=fd748e45aa858cfcdc7badaaa3c0a203cb6cbc852956b21f868872c4ad7cd2e7\n",
            "  Stored in directory: /tmp/pip-ephem-wheel-cache-nauzxxkf/wheels/8b/6c/d0/622666868c179f156cf595c8b6f06f88bc5d80c4b31dccaa03\n",
            "Successfully built openai-whisper\n",
            "Installing collected packages: tiktoken, openai-whisper\n",
            "\u001b[31mERROR: pip's dependency resolver does not currently take into account all the packages that are installed. This behaviour is the source of the following dependency conflicts.\n",
            "llmx 0.0.15a0 requires cohere, which is not installed.\n",
            "llmx 0.0.15a0 requires openai, which is not installed.\u001b[0m\u001b[31m\n",
            "\u001b[0mSuccessfully installed openai-whisper-20231117 tiktoken-0.5.2\n",
            "Requirement already satisfied: summa in /usr/local/lib/python3.10/dist-packages (1.2.0)\n",
            "Requirement already satisfied: scipy>=0.19 in /usr/local/lib/python3.10/dist-packages (from summa) (1.11.4)\n",
            "Requirement already satisfied: numpy<1.28.0,>=1.21.6 in /usr/local/lib/python3.10/dist-packages (from scipy>=0.19->summa) (1.23.5)\n",
            "Collecting pytextrank\n",
            "  Downloading pytextrank-3.2.5-py3-none-any.whl (30 kB)\n",
            "Requirement already satisfied: graphviz>=0.13 in /usr/local/lib/python3.10/dist-packages (from pytextrank) (0.20.1)\n",
            "Collecting icecream>=2.1 (from pytextrank)\n",
            "  Downloading icecream-2.1.3-py2.py3-none-any.whl (8.4 kB)\n",
            "Requirement already satisfied: networkx[default]>=2.6 in /usr/local/lib/python3.10/dist-packages (from pytextrank) (3.2.1)\n",
            "Requirement already satisfied: pygments>=2.7.4 in /usr/local/lib/python3.10/dist-packages (from pytextrank) (2.16.1)\n",
            "Requirement already satisfied: scipy>=1.7 in /usr/local/lib/python3.10/dist-packages (from pytextrank) (1.11.4)\n",
            "Requirement already satisfied: spacy>=3.0 in /usr/local/lib/python3.10/dist-packages (from pytextrank) (3.7.2)\n",
            "Collecting colorama>=0.3.9 (from icecream>=2.1->pytextrank)\n",
            "  Downloading colorama-0.4.6-py2.py3-none-any.whl (25 kB)\n",
            "Collecting executing>=0.3.1 (from icecream>=2.1->pytextrank)\n",
            "  Downloading executing-2.0.1-py2.py3-none-any.whl (24 kB)\n",
            "Collecting asttokens>=2.0.1 (from icecream>=2.1->pytextrank)\n",
            "  Downloading asttokens-2.4.1-py2.py3-none-any.whl (27 kB)\n",
            "Requirement already satisfied: numpy>=1.22 in /usr/local/lib/python3.10/dist-packages (from networkx[default]>=2.6->pytextrank) (1.23.5)\n",
            "Requirement already satisfied: matplotlib>=3.5 in /usr/local/lib/python3.10/dist-packages (from networkx[default]>=2.6->pytextrank) (3.7.1)\n",
            "Requirement already satisfied: pandas>=1.4 in /usr/local/lib/python3.10/dist-packages (from networkx[default]>=2.6->pytextrank) (1.5.3)\n",
            "Requirement already satisfied: spacy-legacy<3.1.0,>=3.0.11 in /usr/local/lib/python3.10/dist-packages (from spacy>=3.0->pytextrank) (3.0.12)\n",
            "Requirement already satisfied: spacy-loggers<2.0.0,>=1.0.0 in /usr/local/lib/python3.10/dist-packages (from spacy>=3.0->pytextrank) (1.0.5)\n",
            "Requirement already satisfied: murmurhash<1.1.0,>=0.28.0 in /usr/local/lib/python3.10/dist-packages (from spacy>=3.0->pytextrank) (1.0.10)\n",
            "Requirement already satisfied: cymem<2.1.0,>=2.0.2 in /usr/local/lib/python3.10/dist-packages (from spacy>=3.0->pytextrank) (2.0.8)\n",
            "Requirement already satisfied: preshed<3.1.0,>=3.0.2 in /usr/local/lib/python3.10/dist-packages (from spacy>=3.0->pytextrank) (3.0.9)\n",
            "Requirement already satisfied: thinc<8.3.0,>=8.1.8 in /usr/local/lib/python3.10/dist-packages (from spacy>=3.0->pytextrank) (8.2.2)\n",
            "Requirement already satisfied: wasabi<1.2.0,>=0.9.1 in /usr/local/lib/python3.10/dist-packages (from spacy>=3.0->pytextrank) (1.1.2)\n",
            "Requirement already satisfied: srsly<3.0.0,>=2.4.3 in /usr/local/lib/python3.10/dist-packages (from spacy>=3.0->pytextrank) (2.4.8)\n",
            "Requirement already satisfied: catalogue<2.1.0,>=2.0.6 in /usr/local/lib/python3.10/dist-packages (from spacy>=3.0->pytextrank) (2.0.10)\n",
            "Requirement already satisfied: weasel<0.4.0,>=0.1.0 in /usr/local/lib/python3.10/dist-packages (from spacy>=3.0->pytextrank) (0.3.4)\n",
            "Requirement already satisfied: typer<0.10.0,>=0.3.0 in /usr/local/lib/python3.10/dist-packages (from spacy>=3.0->pytextrank) (0.9.0)\n",
            "Requirement already satisfied: smart-open<7.0.0,>=5.2.1 in /usr/local/lib/python3.10/dist-packages (from spacy>=3.0->pytextrank) (6.4.0)\n",
            "Requirement already satisfied: tqdm<5.0.0,>=4.38.0 in /usr/local/lib/python3.10/dist-packages (from spacy>=3.0->pytextrank) (4.66.1)\n",
            "Requirement already satisfied: requests<3.0.0,>=2.13.0 in /usr/local/lib/python3.10/dist-packages (from spacy>=3.0->pytextrank) (2.31.0)\n",
            "Requirement already satisfied: pydantic!=1.8,!=1.8.1,<3.0.0,>=1.7.4 in /usr/local/lib/python3.10/dist-packages (from spacy>=3.0->pytextrank) (1.10.14)\n",
            "Requirement already satisfied: jinja2 in /usr/local/lib/python3.10/dist-packages (from spacy>=3.0->pytextrank) (3.1.3)\n",
            "Requirement already satisfied: setuptools in /usr/local/lib/python3.10/dist-packages (from spacy>=3.0->pytextrank) (67.7.2)\n",
            "Requirement already satisfied: packaging>=20.0 in /usr/local/lib/python3.10/dist-packages (from spacy>=3.0->pytextrank) (23.2)\n",
            "Requirement already satisfied: langcodes<4.0.0,>=3.2.0 in /usr/local/lib/python3.10/dist-packages (from spacy>=3.0->pytextrank) (3.3.0)\n",
            "Requirement already satisfied: six>=1.12.0 in /usr/local/lib/python3.10/dist-packages (from asttokens>=2.0.1->icecream>=2.1->pytextrank) (1.16.0)\n",
            "Requirement already satisfied: contourpy>=1.0.1 in /usr/local/lib/python3.10/dist-packages (from matplotlib>=3.5->networkx[default]>=2.6->pytextrank) (1.2.0)\n",
            "Requirement already satisfied: cycler>=0.10 in /usr/local/lib/python3.10/dist-packages (from matplotlib>=3.5->networkx[default]>=2.6->pytextrank) (0.12.1)\n",
            "Requirement already satisfied: fonttools>=4.22.0 in /usr/local/lib/python3.10/dist-packages (from matplotlib>=3.5->networkx[default]>=2.6->pytextrank) (4.47.2)\n",
            "Requirement already satisfied: kiwisolver>=1.0.1 in /usr/local/lib/python3.10/dist-packages (from matplotlib>=3.5->networkx[default]>=2.6->pytextrank) (1.4.5)\n",
            "Requirement already satisfied: pillow>=6.2.0 in /usr/local/lib/python3.10/dist-packages (from matplotlib>=3.5->networkx[default]>=2.6->pytextrank) (9.4.0)\n",
            "Requirement already satisfied: pyparsing>=2.3.1 in /usr/local/lib/python3.10/dist-packages (from matplotlib>=3.5->networkx[default]>=2.6->pytextrank) (3.1.1)\n",
            "Requirement already satisfied: python-dateutil>=2.7 in /usr/local/lib/python3.10/dist-packages (from matplotlib>=3.5->networkx[default]>=2.6->pytextrank) (2.8.2)\n",
            "Requirement already satisfied: pytz>=2020.1 in /usr/local/lib/python3.10/dist-packages (from pandas>=1.4->networkx[default]>=2.6->pytextrank) (2023.4)\n",
            "Requirement already satisfied: typing-extensions>=4.2.0 in /usr/local/lib/python3.10/dist-packages (from pydantic!=1.8,!=1.8.1,<3.0.0,>=1.7.4->spacy>=3.0->pytextrank) (4.5.0)\n",
            "Requirement already satisfied: charset-normalizer<4,>=2 in /usr/local/lib/python3.10/dist-packages (from requests<3.0.0,>=2.13.0->spacy>=3.0->pytextrank) (3.3.2)\n",
            "Requirement already satisfied: idna<4,>=2.5 in /usr/local/lib/python3.10/dist-packages (from requests<3.0.0,>=2.13.0->spacy>=3.0->pytextrank) (3.6)\n",
            "Requirement already satisfied: urllib3<3,>=1.21.1 in /usr/local/lib/python3.10/dist-packages (from requests<3.0.0,>=2.13.0->spacy>=3.0->pytextrank) (2.0.7)\n",
            "Requirement already satisfied: certifi>=2017.4.17 in /usr/local/lib/python3.10/dist-packages (from requests<3.0.0,>=2.13.0->spacy>=3.0->pytextrank) (2023.11.17)\n",
            "Requirement already satisfied: blis<0.8.0,>=0.7.8 in /usr/local/lib/python3.10/dist-packages (from thinc<8.3.0,>=8.1.8->spacy>=3.0->pytextrank) (0.7.11)\n",
            "Requirement already satisfied: confection<1.0.0,>=0.0.1 in /usr/local/lib/python3.10/dist-packages (from thinc<8.3.0,>=8.1.8->spacy>=3.0->pytextrank) (0.1.4)\n",
            "Requirement already satisfied: click<9.0.0,>=7.1.1 in /usr/local/lib/python3.10/dist-packages (from typer<0.10.0,>=0.3.0->spacy>=3.0->pytextrank) (8.1.7)\n",
            "Requirement already satisfied: cloudpathlib<0.17.0,>=0.7.0 in /usr/local/lib/python3.10/dist-packages (from weasel<0.4.0,>=0.1.0->spacy>=3.0->pytextrank) (0.16.0)\n",
            "Requirement already satisfied: MarkupSafe>=2.0 in /usr/local/lib/python3.10/dist-packages (from jinja2->spacy>=3.0->pytextrank) (2.1.4)\n",
            "Installing collected packages: executing, colorama, asttokens, icecream, pytextrank\n",
            "Successfully installed asttokens-2.4.1 colorama-0.4.6 executing-2.0.1 icecream-2.1.3 pytextrank-3.2.5\n",
            "Collecting en-core-web-sm==3.7.1\n",
            "  Downloading https://github.com/explosion/spacy-models/releases/download/en_core_web_sm-3.7.1/en_core_web_sm-3.7.1-py3-none-any.whl (12.8 MB)\n",
            "\u001b[2K     \u001b[90m━━━━━━━━━━━━━━━━━━━━━━━━━━━━━━━━━━━━━━━━\u001b[0m \u001b[32m12.8/12.8 MB\u001b[0m \u001b[31m20.5 MB/s\u001b[0m eta \u001b[36m0:00:00\u001b[0m\n",
            "\u001b[?25hRequirement already satisfied: spacy<3.8.0,>=3.7.2 in /usr/local/lib/python3.10/dist-packages (from en-core-web-sm==3.7.1) (3.7.2)\n",
            "Requirement already satisfied: spacy-legacy<3.1.0,>=3.0.11 in /usr/local/lib/python3.10/dist-packages (from spacy<3.8.0,>=3.7.2->en-core-web-sm==3.7.1) (3.0.12)\n",
            "Requirement already satisfied: spacy-loggers<2.0.0,>=1.0.0 in /usr/local/lib/python3.10/dist-packages (from spacy<3.8.0,>=3.7.2->en-core-web-sm==3.7.1) (1.0.5)\n",
            "Requirement already satisfied: murmurhash<1.1.0,>=0.28.0 in /usr/local/lib/python3.10/dist-packages (from spacy<3.8.0,>=3.7.2->en-core-web-sm==3.7.1) (1.0.10)\n",
            "Requirement already satisfied: cymem<2.1.0,>=2.0.2 in /usr/local/lib/python3.10/dist-packages (from spacy<3.8.0,>=3.7.2->en-core-web-sm==3.7.1) (2.0.8)\n",
            "Requirement already satisfied: preshed<3.1.0,>=3.0.2 in /usr/local/lib/python3.10/dist-packages (from spacy<3.8.0,>=3.7.2->en-core-web-sm==3.7.1) (3.0.9)\n",
            "Requirement already satisfied: thinc<8.3.0,>=8.1.8 in /usr/local/lib/python3.10/dist-packages (from spacy<3.8.0,>=3.7.2->en-core-web-sm==3.7.1) (8.2.2)\n",
            "Requirement already satisfied: wasabi<1.2.0,>=0.9.1 in /usr/local/lib/python3.10/dist-packages (from spacy<3.8.0,>=3.7.2->en-core-web-sm==3.7.1) (1.1.2)\n",
            "Requirement already satisfied: srsly<3.0.0,>=2.4.3 in /usr/local/lib/python3.10/dist-packages (from spacy<3.8.0,>=3.7.2->en-core-web-sm==3.7.1) (2.4.8)\n",
            "Requirement already satisfied: catalogue<2.1.0,>=2.0.6 in /usr/local/lib/python3.10/dist-packages (from spacy<3.8.0,>=3.7.2->en-core-web-sm==3.7.1) (2.0.10)\n",
            "Requirement already satisfied: weasel<0.4.0,>=0.1.0 in /usr/local/lib/python3.10/dist-packages (from spacy<3.8.0,>=3.7.2->en-core-web-sm==3.7.1) (0.3.4)\n",
            "Requirement already satisfied: typer<0.10.0,>=0.3.0 in /usr/local/lib/python3.10/dist-packages (from spacy<3.8.0,>=3.7.2->en-core-web-sm==3.7.1) (0.9.0)\n",
            "Requirement already satisfied: smart-open<7.0.0,>=5.2.1 in /usr/local/lib/python3.10/dist-packages (from spacy<3.8.0,>=3.7.2->en-core-web-sm==3.7.1) (6.4.0)\n",
            "Requirement already satisfied: tqdm<5.0.0,>=4.38.0 in /usr/local/lib/python3.10/dist-packages (from spacy<3.8.0,>=3.7.2->en-core-web-sm==3.7.1) (4.66.1)\n",
            "Requirement already satisfied: requests<3.0.0,>=2.13.0 in /usr/local/lib/python3.10/dist-packages (from spacy<3.8.0,>=3.7.2->en-core-web-sm==3.7.1) (2.31.0)\n",
            "Requirement already satisfied: pydantic!=1.8,!=1.8.1,<3.0.0,>=1.7.4 in /usr/local/lib/python3.10/dist-packages (from spacy<3.8.0,>=3.7.2->en-core-web-sm==3.7.1) (1.10.14)\n",
            "Requirement already satisfied: jinja2 in /usr/local/lib/python3.10/dist-packages (from spacy<3.8.0,>=3.7.2->en-core-web-sm==3.7.1) (3.1.3)\n",
            "Requirement already satisfied: setuptools in /usr/local/lib/python3.10/dist-packages (from spacy<3.8.0,>=3.7.2->en-core-web-sm==3.7.1) (67.7.2)\n",
            "Requirement already satisfied: packaging>=20.0 in /usr/local/lib/python3.10/dist-packages (from spacy<3.8.0,>=3.7.2->en-core-web-sm==3.7.1) (23.2)\n",
            "Requirement already satisfied: langcodes<4.0.0,>=3.2.0 in /usr/local/lib/python3.10/dist-packages (from spacy<3.8.0,>=3.7.2->en-core-web-sm==3.7.1) (3.3.0)\n",
            "Requirement already satisfied: numpy>=1.19.0 in /usr/local/lib/python3.10/dist-packages (from spacy<3.8.0,>=3.7.2->en-core-web-sm==3.7.1) (1.23.5)\n",
            "Requirement already satisfied: typing-extensions>=4.2.0 in /usr/local/lib/python3.10/dist-packages (from pydantic!=1.8,!=1.8.1,<3.0.0,>=1.7.4->spacy<3.8.0,>=3.7.2->en-core-web-sm==3.7.1) (4.5.0)\n",
            "Requirement already satisfied: charset-normalizer<4,>=2 in /usr/local/lib/python3.10/dist-packages (from requests<3.0.0,>=2.13.0->spacy<3.8.0,>=3.7.2->en-core-web-sm==3.7.1) (3.3.2)\n",
            "Requirement already satisfied: idna<4,>=2.5 in /usr/local/lib/python3.10/dist-packages (from requests<3.0.0,>=2.13.0->spacy<3.8.0,>=3.7.2->en-core-web-sm==3.7.1) (3.6)\n",
            "Requirement already satisfied: urllib3<3,>=1.21.1 in /usr/local/lib/python3.10/dist-packages (from requests<3.0.0,>=2.13.0->spacy<3.8.0,>=3.7.2->en-core-web-sm==3.7.1) (2.0.7)\n",
            "Requirement already satisfied: certifi>=2017.4.17 in /usr/local/lib/python3.10/dist-packages (from requests<3.0.0,>=2.13.0->spacy<3.8.0,>=3.7.2->en-core-web-sm==3.7.1) (2023.11.17)\n",
            "Requirement already satisfied: blis<0.8.0,>=0.7.8 in /usr/local/lib/python3.10/dist-packages (from thinc<8.3.0,>=8.1.8->spacy<3.8.0,>=3.7.2->en-core-web-sm==3.7.1) (0.7.11)\n",
            "Requirement already satisfied: confection<1.0.0,>=0.0.1 in /usr/local/lib/python3.10/dist-packages (from thinc<8.3.0,>=8.1.8->spacy<3.8.0,>=3.7.2->en-core-web-sm==3.7.1) (0.1.4)\n",
            "Requirement already satisfied: click<9.0.0,>=7.1.1 in /usr/local/lib/python3.10/dist-packages (from typer<0.10.0,>=0.3.0->spacy<3.8.0,>=3.7.2->en-core-web-sm==3.7.1) (8.1.7)\n",
            "Requirement already satisfied: cloudpathlib<0.17.0,>=0.7.0 in /usr/local/lib/python3.10/dist-packages (from weasel<0.4.0,>=0.1.0->spacy<3.8.0,>=3.7.2->en-core-web-sm==3.7.1) (0.16.0)\n",
            "Requirement already satisfied: MarkupSafe>=2.0 in /usr/local/lib/python3.10/dist-packages (from jinja2->spacy<3.8.0,>=3.7.2->en-core-web-sm==3.7.1) (2.1.4)\n",
            "\u001b[38;5;2m✔ Download and installation successful\u001b[0m\n",
            "You can now load the package via spacy.load('en_core_web_sm')\n"
          ]
        }
      ],
      "source": [
        "# Setup packages\n",
        "! pip install git+https://github.com/openai/whisper.git\n",
        "! pip install summa\n",
        "! python3 -m pip install pytextrank\n",
        "! python3 -m spacy download en_core_web_sm"
      ]
    },
    {
      "cell_type": "code",
      "source": [
        "# 上傳中文及英文測試語音檔案\n",
        "from google.colab import files as colab_files\n",
        "uploaded = colab_files.upload()\n",
        "files = []\n",
        "for f in uploaded.keys():\n",
        "  print('{name} with length {length} bytes'.format(name=f, length=len(uploaded[f])))\n",
        "  files.append(f)"
      ],
      "metadata": {
        "colab": {
          "base_uri": "https://localhost:8080/",
          "height": 144
        },
        "id": "FxtmiTCtzIqk",
        "outputId": "030f5a6b-72c1-4c99-c89c-648cbf89f5e8"
      },
      "execution_count": 4,
      "outputs": [
        {
          "output_type": "display_data",
          "data": {
            "text/plain": [
              "<IPython.core.display.HTML object>"
            ],
            "text/html": [
              "\n",
              "     <input type=\"file\" id=\"files-52241b1f-ce11-4ead-8d53-9aad041d4f48\" name=\"files[]\" multiple disabled\n",
              "        style=\"border:none\" />\n",
              "     <output id=\"result-52241b1f-ce11-4ead-8d53-9aad041d4f48\">\n",
              "      Upload widget is only available when the cell has been executed in the\n",
              "      current browser session. Please rerun this cell to enable.\n",
              "      </output>\n",
              "      <script>// Copyright 2017 Google LLC\n",
              "//\n",
              "// Licensed under the Apache License, Version 2.0 (the \"License\");\n",
              "// you may not use this file except in compliance with the License.\n",
              "// You may obtain a copy of the License at\n",
              "//\n",
              "//      http://www.apache.org/licenses/LICENSE-2.0\n",
              "//\n",
              "// Unless required by applicable law or agreed to in writing, software\n",
              "// distributed under the License is distributed on an \"AS IS\" BASIS,\n",
              "// WITHOUT WARRANTIES OR CONDITIONS OF ANY KIND, either express or implied.\n",
              "// See the License for the specific language governing permissions and\n",
              "// limitations under the License.\n",
              "\n",
              "/**\n",
              " * @fileoverview Helpers for google.colab Python module.\n",
              " */\n",
              "(function(scope) {\n",
              "function span(text, styleAttributes = {}) {\n",
              "  const element = document.createElement('span');\n",
              "  element.textContent = text;\n",
              "  for (const key of Object.keys(styleAttributes)) {\n",
              "    element.style[key] = styleAttributes[key];\n",
              "  }\n",
              "  return element;\n",
              "}\n",
              "\n",
              "// Max number of bytes which will be uploaded at a time.\n",
              "const MAX_PAYLOAD_SIZE = 100 * 1024;\n",
              "\n",
              "function _uploadFiles(inputId, outputId) {\n",
              "  const steps = uploadFilesStep(inputId, outputId);\n",
              "  const outputElement = document.getElementById(outputId);\n",
              "  // Cache steps on the outputElement to make it available for the next call\n",
              "  // to uploadFilesContinue from Python.\n",
              "  outputElement.steps = steps;\n",
              "\n",
              "  return _uploadFilesContinue(outputId);\n",
              "}\n",
              "\n",
              "// This is roughly an async generator (not supported in the browser yet),\n",
              "// where there are multiple asynchronous steps and the Python side is going\n",
              "// to poll for completion of each step.\n",
              "// This uses a Promise to block the python side on completion of each step,\n",
              "// then passes the result of the previous step as the input to the next step.\n",
              "function _uploadFilesContinue(outputId) {\n",
              "  const outputElement = document.getElementById(outputId);\n",
              "  const steps = outputElement.steps;\n",
              "\n",
              "  const next = steps.next(outputElement.lastPromiseValue);\n",
              "  return Promise.resolve(next.value.promise).then((value) => {\n",
              "    // Cache the last promise value to make it available to the next\n",
              "    // step of the generator.\n",
              "    outputElement.lastPromiseValue = value;\n",
              "    return next.value.response;\n",
              "  });\n",
              "}\n",
              "\n",
              "/**\n",
              " * Generator function which is called between each async step of the upload\n",
              " * process.\n",
              " * @param {string} inputId Element ID of the input file picker element.\n",
              " * @param {string} outputId Element ID of the output display.\n",
              " * @return {!Iterable<!Object>} Iterable of next steps.\n",
              " */\n",
              "function* uploadFilesStep(inputId, outputId) {\n",
              "  const inputElement = document.getElementById(inputId);\n",
              "  inputElement.disabled = false;\n",
              "\n",
              "  const outputElement = document.getElementById(outputId);\n",
              "  outputElement.innerHTML = '';\n",
              "\n",
              "  const pickedPromise = new Promise((resolve) => {\n",
              "    inputElement.addEventListener('change', (e) => {\n",
              "      resolve(e.target.files);\n",
              "    });\n",
              "  });\n",
              "\n",
              "  const cancel = document.createElement('button');\n",
              "  inputElement.parentElement.appendChild(cancel);\n",
              "  cancel.textContent = 'Cancel upload';\n",
              "  const cancelPromise = new Promise((resolve) => {\n",
              "    cancel.onclick = () => {\n",
              "      resolve(null);\n",
              "    };\n",
              "  });\n",
              "\n",
              "  // Wait for the user to pick the files.\n",
              "  const files = yield {\n",
              "    promise: Promise.race([pickedPromise, cancelPromise]),\n",
              "    response: {\n",
              "      action: 'starting',\n",
              "    }\n",
              "  };\n",
              "\n",
              "  cancel.remove();\n",
              "\n",
              "  // Disable the input element since further picks are not allowed.\n",
              "  inputElement.disabled = true;\n",
              "\n",
              "  if (!files) {\n",
              "    return {\n",
              "      response: {\n",
              "        action: 'complete',\n",
              "      }\n",
              "    };\n",
              "  }\n",
              "\n",
              "  for (const file of files) {\n",
              "    const li = document.createElement('li');\n",
              "    li.append(span(file.name, {fontWeight: 'bold'}));\n",
              "    li.append(span(\n",
              "        `(${file.type || 'n/a'}) - ${file.size} bytes, ` +\n",
              "        `last modified: ${\n",
              "            file.lastModifiedDate ? file.lastModifiedDate.toLocaleDateString() :\n",
              "                                    'n/a'} - `));\n",
              "    const percent = span('0% done');\n",
              "    li.appendChild(percent);\n",
              "\n",
              "    outputElement.appendChild(li);\n",
              "\n",
              "    const fileDataPromise = new Promise((resolve) => {\n",
              "      const reader = new FileReader();\n",
              "      reader.onload = (e) => {\n",
              "        resolve(e.target.result);\n",
              "      };\n",
              "      reader.readAsArrayBuffer(file);\n",
              "    });\n",
              "    // Wait for the data to be ready.\n",
              "    let fileData = yield {\n",
              "      promise: fileDataPromise,\n",
              "      response: {\n",
              "        action: 'continue',\n",
              "      }\n",
              "    };\n",
              "\n",
              "    // Use a chunked sending to avoid message size limits. See b/62115660.\n",
              "    let position = 0;\n",
              "    do {\n",
              "      const length = Math.min(fileData.byteLength - position, MAX_PAYLOAD_SIZE);\n",
              "      const chunk = new Uint8Array(fileData, position, length);\n",
              "      position += length;\n",
              "\n",
              "      const base64 = btoa(String.fromCharCode.apply(null, chunk));\n",
              "      yield {\n",
              "        response: {\n",
              "          action: 'append',\n",
              "          file: file.name,\n",
              "          data: base64,\n",
              "        },\n",
              "      };\n",
              "\n",
              "      let percentDone = fileData.byteLength === 0 ?\n",
              "          100 :\n",
              "          Math.round((position / fileData.byteLength) * 100);\n",
              "      percent.textContent = `${percentDone}% done`;\n",
              "\n",
              "    } while (position < fileData.byteLength);\n",
              "  }\n",
              "\n",
              "  // All done.\n",
              "  yield {\n",
              "    response: {\n",
              "      action: 'complete',\n",
              "    }\n",
              "  };\n",
              "}\n",
              "\n",
              "scope.google = scope.google || {};\n",
              "scope.google.colab = scope.google.colab || {};\n",
              "scope.google.colab._files = {\n",
              "  _uploadFiles,\n",
              "  _uploadFilesContinue,\n",
              "};\n",
              "})(self);\n",
              "</script> "
            ]
          },
          "metadata": {}
        },
        {
          "output_type": "stream",
          "name": "stdout",
          "text": [
            "Saving ttsmaker-file-2024-2-1-21-42-44.mp3 to ttsmaker-file-2024-2-1-21-42-44.mp3\n",
            "Saving ttsmaker-file-2024-2-1-21-57-39.mp3 to ttsmaker-file-2024-2-1-21-57-39.mp3\n",
            "ttsmaker-file-2024-2-1-21-42-44.mp3 with length 609840 bytes\n",
            "ttsmaker-file-2024-2-1-21-57-39.mp3 with length 439200 bytes\n"
          ]
        }
      ]
    },
    {
      "cell_type": "markdown",
      "source": [
        "source\n",
        "\n",
        "\n",
        "*   https://huggingface.co/openai/whisper-tiny\n",
        "*   https://ttsmaker.com/zh-hk\n",
        "\n"
      ],
      "metadata": {
        "id": "gdBywRCApo-x"
      }
    },
    {
      "cell_type": "code",
      "source": [
        "import whisper\n",
        "# models:https://github.com/openai/whisper#available-models-and-languages\n",
        "# tiny, base, small, medium, large, large-v2, large-v3\n",
        "model = whisper.load_model('small')"
      ],
      "metadata": {
        "id": "axu5JN8XzD7z",
        "colab": {
          "base_uri": "https://localhost:8080/"
        },
        "outputId": "f76d4592-62cd-4292-83c5-55ffe60bd66f"
      },
      "execution_count": 5,
      "outputs": [
        {
          "output_type": "stream",
          "name": "stderr",
          "text": [
            "100%|███████████████████████████████████████| 461M/461M [00:06<00:00, 77.5MiB/s]\n"
          ]
        }
      ]
    },
    {
      "cell_type": "code",
      "source": [
        "import os\n",
        "\n",
        "results = []\n",
        "for f in files:\n",
        "  name = os.path.basename(f)\n",
        "  result = model.transcribe(name, prompt=\"您好，敝姓盧，很高興為您服務\")\n",
        "  results.append(result)\n",
        "results = [result['text'] for result in results]"
      ],
      "metadata": {
        "id": "NZ9v64IUDVHH"
      },
      "execution_count": 6,
      "outputs": []
    },
    {
      "cell_type": "code",
      "source": [
        "results"
      ],
      "metadata": {
        "colab": {
          "base_uri": "https://localhost:8080/"
        },
        "id": "x_sAgObzmlj4",
        "outputId": "569f1b7f-fe5b-4653-c7bd-d1fbeeba2388"
      },
      "execution_count": 7,
      "outputs": [
        {
          "output_type": "execute_result",
          "data": {
            "text/plain": [
              "['你好,必兴许,很高兴为你服务。你好,我发现我的信用卡不见了,我怀疑它可能遗失了。我应该怎么处理?你好,请问先生怎么称呼呢?而东辰。你好,陈先生,很抱歉,听到您的信用卡遗失了。我会协助您处理这个情况。首先,方便跟你合对一下基本资料吗?可以。请问陈先生身份证字后4号是多少呢?6977,好的,谢谢。谢谢。请问,最近信用卡缴款的地方在哪里呢?超商。好的,谢谢。请问陈先生您就读的国小是哪里呢?星星小学。谢谢,陈先生。我将会立即查取您的资料。看起来您的账户中有一笔可疑的交易,我们会将您的信用卡设位在未暂停以防止进一步的损失。同时,我们会为您办理信用卡遗失包案程序,并发送一张新的信用卡给您。好的,谢谢您的迅速处理。我还需要采取其他措施吗?是的,为了确保您的账户安全,建议您通知我们任何其他可能使用该卡的自动支付或授权付款。同时,请密切监控您的账单,以确保没有为授权的交易。我们还会为您寄送一封邮件,提供有关信用卡的详细信息,包括卡的到期日期和新的安全码。明白了,我会立即通知任何其他相关方。谢谢您的协助。不客气,陈先生。请问还有哪里需要为您服务的地方吗?没有了,谢谢。好的,如果你有其他问题或需要进一步的协助,请随时与我们联系。祝您顺心平安。谢谢,再见。',\n",
              " '为了维护双方的权益,本次对话我们将全程录音。谢谢。您好,必幸菜,很高兴为您服务。您好,我想询问一下我的定期定额基金扣款是否成功。您好,先生怎么称呼呢?口天无。吴先生您好,请问方便跟您合对一下基本资料吗?可以。请问吴先生身份政治后4号是多少呢?7749,好的,谢谢。请问近一期信用卡脚款的地方在哪里呢?超商。好的,谢谢。基本资料合对到这边,谢谢您的配合。请问吴先生的账户号码是多少?我的账户号码是00008888。谢谢,稍等一下,我查询一下您的账户资讯。我确认您的基金扣款已成功完成。感谢您的配合。请问还有哪里需要为您服务的地方吗?没有了,谢谢。很高兴能为您提供协助,有其他问题欢迎随时联络我们,谢谢。']"
            ]
          },
          "metadata": {},
          "execution_count": 7
        }
      ]
    },
    {
      "cell_type": "code",
      "source": [
        "result_trans = [get_translation(result) for result in results]"
      ],
      "metadata": {
        "colab": {
          "base_uri": "https://localhost:8080/"
        },
        "id": "zgRAPIlhFmn5",
        "outputId": "906d5ebc-3a73-4f39-cecd-ec45c7534787"
      },
      "execution_count": 12,
      "outputs": [
        {
          "output_type": "stream",
          "name": "stdout",
          "text": [
            "response status_code: 200\n",
            "response status_code: 200\n"
          ]
        }
      ]
    },
    {
      "cell_type": "code",
      "source": [
        "result_trans = [parse_result(doc) for doc in result_trans]\n",
        "result_trans"
      ],
      "metadata": {
        "colab": {
          "base_uri": "https://localhost:8080/"
        },
        "id": "VULrYZetmYAW",
        "outputId": "3f0407a6-309d-4b4e-92a2-ebc5e7a724a2"
      },
      "execution_count": 13,
      "outputs": [
        {
          "output_type": "execute_result",
          "data": {
            "text/plain": [
              "['你好，必興許，很高興為你服務。\\n你好，我發現我的信用卡不見了，我懷疑它可能遺失了。我應該怎麼處理？\\n你好，請問先生怎麼稱呼呢？\\n而東辰。\\n你好，陳先生，很抱歉，聽到您的信用卡遺失了。我會協助您處理這個情況。首先，方便跟你核對一下基本資料嗎？\\n可以。請問陳先生身分證字號後4碼是多少呢？\\n6977，好的，謝謝。\\n謝謝。請問，最近信用卡繳款的地方在哪裡呢？\\n超商。\\n好的，謝謝。請問陳先生您就讀的國小是哪裡呢？\\n星星小學。\\n謝謝，陳先生。我將會立即查取您的資料。看起來您的帳戶中有一筆可疑的交易，我們會將您的信用卡設位在未暫停以防止進一步的損失。同時，我們會為您辦理信用卡遺失包裹程序，並寄送一張新的信用卡給您。\\n好的，謝謝您的迅速處理。我還需要採取其他措施嗎？\\n是的，為了確保您的帳戶安全，建議您通知我們任何其他可能使用該卡的自動支付或授權付款。同時，請密切監控您的帳單，以確保沒有未授權的交易。我們還會為您寄送一封信件，提供有關信用卡的詳細資料，包括卡的到期日期和新的安全碼。\\n明白了，我會立即通知任何其他相關方。謝謝您的協助。\\n不客氣，陳先生。請問還有哪裡需要為您服務的地方嗎？\\n沒有了，謝謝。\\n好的，如果你有其他問題或需要進一步的協助，請隨時與我們聯繫。祝您順心平安。\\n謝謝，再見。',\n",
              " '為了維護雙方的權益，本次對話我們將全程錄音。謝謝。您好，毕幸菜，很高兴為您服務。您好，我想詢問一下我的定期定额基金扣款是否成功。您好，先生怎麼稱呼呢？口天無。吳先生您好，請問方便跟您核對一下基本資料嗎？可以。請問吳先生身分證後四號是多少呢？7749，好的，謝謝。請問近期信用卡繳款的地點在哪裡呢？超商。好的，謝謝。基本資料核對到這邊，謝謝您的配合。請問吳先生的帳戶號碼是多少？我的帳戶號碼是00008888。謝謝，稍等一下，我查詢一下您的帳戶資訊。我確認您的基金扣款已成功完成。感謝您的配合。請問還有哪裡需要為您服務的地方嗎？沒有了，謝謝。很高興能為您提供協助，有其他問題歡迎隨時聯絡我們，謝謝。']"
            ]
          },
          "metadata": {},
          "execution_count": 13
        }
      ]
    },
    {
      "cell_type": "markdown",
      "source": [
        "# 非LLM摘要嘗試\n",
        "\n",
        "*   CKIP(X)\n",
        "*   jieba(X)\n",
        "*   TEXTRANK:https://blog.pulipuli.info/2022/04/introduction-to-textrank.html\n",
        "*   summa textrank:https://github.com/summanlp/textrank\n",
        "\n",
        "\n",
        "\n"
      ],
      "metadata": {
        "id": "doEKWB5pml5L"
      }
    },
    {
      "cell_type": "markdown",
      "source": [],
      "metadata": {
        "id": "IdIwgGf4mq5e"
      }
    },
    {
      "cell_type": "code",
      "source": [
        "def replace_punctuation(text):\n",
        "  text = text.replace('，', ',')\n",
        "  text = text.replace('。', '.')\n",
        "  text = text.replace('！', '!')\n",
        "  text = text.replace('？', '?')\n",
        "  text = text.replace('；', ';')\n",
        "  text = text.replace('：', ':')\n",
        "  return text\n",
        "\n",
        "def replace_space(text):\n",
        "  text = text.replace('，', ' ')\n",
        "  text = text.replace('。', ' ')\n",
        "  text = text.replace('！', ' ')\n",
        "  text = text.replace('？', ' ')\n",
        "  text = text.replace('；', ' ')\n",
        "  text = text.replace('：', ' ')\n",
        "  text = text.replace(',', ' ')\n",
        "  text = text.replace('.', ' ')\n",
        "  text = text.replace('!', ' ')\n",
        "  text = text.replace('?', ' ')\n",
        "  text = text.replace(';', ' ')\n",
        "  text = text.replace(':', ' ')\n",
        "  return text"
      ],
      "metadata": {
        "id": "ktV1x-6YhtkT"
      },
      "execution_count": 26,
      "outputs": []
    },
    {
      "cell_type": "code",
      "source": [
        "from summa import keywords\n",
        "from summa.summarizer import summarize\n",
        "import jieba\n",
        "\n",
        "# [信用卡|信貸|房貸|基金]\n",
        "chinese_stop_words = [\n",
        "    '的', '了', '和', '是', '就', '都', '而', '及', '與',\n",
        "    '著', '或', '一個', '沒有', '我們', '你們', '妳們',\n",
        "    '他們', '她們', '是否', '我', '您'\n",
        "]\n",
        "\n",
        "doc = result_trans[0]\n",
        "words = jieba.cut(replace_space(doc), cut_all=False)\n",
        "words = [str(word) for word in words if not str(word) in chinese_stop_words]\n",
        "\n",
        "print(keywords.keywords(' '.join(words), split=True))\n",
        "summarize(replace_punctuation(doc), ratio=0.3, split=True)"
      ],
      "metadata": {
        "colab": {
          "base_uri": "https://localhost:8080/"
        },
        "id": "YdYW9EpLBj--",
        "outputId": "bde43c1a-33e5-4da5-ac18-a43aecec1667"
      },
      "execution_count": 42,
      "outputs": [
        {
          "output_type": "stream",
          "name": "stdout",
          "text": [
            "['信用卡', '為', '好 謝謝', '其他', '呢', '請問 先生', '你好', '你', '資料 嗎', '處理', '需要', '可能 遺失', '哪裡', '請', '立即', '未', '授權', '寄送', '安全', '陳', '同時', '帳戶', '交易']\n"
          ]
        },
        {
          "output_type": "execute_result",
          "data": {
            "text/plain": [
              "['6977,好的,謝謝.',\n",
              " '好的,謝謝.請問陳先生您就讀的國小是哪裡呢?',\n",
              " '謝謝,陳先生.我將會立即查取您的資料.看起來您的帳戶中有一筆可疑的交易,我們會將您的信用卡設位在未暫停以防止進一步的損失.同時,我們會為您辦理信用卡遺失包裹程序,並寄送一張新的信用卡給您.',\n",
              " '沒有了,謝謝.',\n",
              " '謝謝,再見.']"
            ]
          },
          "metadata": {},
          "execution_count": 42
        }
      ]
    },
    {
      "cell_type": "markdown",
      "source": [
        "# LLM 摘要\n",
        "\n",
        "function:\n",
        "*   Making a API call from Google AI with prompt\n",
        "\n",
        "\n",
        "\n",
        "source:\n",
        "*   https://blog.jiatool.com/posts/gemini_api/\n",
        "*   https://github.com/GoogleCloudPlatform/generative-ai/blob/main/gemini/use-cases/education/use_cases_for_education.ipynb\n",
        "\n",
        "\n",
        "\n",
        "\n"
      ],
      "metadata": {
        "id": "Dq19vD-kmfkY"
      }
    },
    {
      "cell_type": "code",
      "source": [
        "import json\n",
        "import requests\n",
        "import time\n",
        "from google.colab import userdata\n",
        "\n",
        "\n",
        "def call_google_apt(target_text):\n",
        "  #print(target_text)\n",
        "  url = f\"https://generativelanguage.googleapis.com/v1/models/gemini-pro:generateContent?key={userdata.get('API_KEY')}\"\n",
        "  headers = {'Content-Type': 'application/json'}\n",
        "  data = {\n",
        "      \"contents\": [\n",
        "          {\n",
        "              \"parts\": [{\"text\": target_text}]\n",
        "          }\n",
        "      ]\n",
        "  }\n",
        "  response = requests.post(url, headers=headers, json=data)\n",
        "  print(f\"response status_code: {response.status_code}\")\n",
        "  return response.json() #json.dumps(response.json(), indent=4, ensure_ascii=False)\n",
        "\n",
        "def get_summary(raw_text):\n",
        "  return call_google_apt(f'請閱讀下列電話客服與客戶之間的對話內容，從[信用卡|信貸|房貸|基金]中選出客戶的詢問意圖比較符合的金融商品主題，並做出對話內容以內的繁體中文摘要。回答格式\"主題：\"\\n\"摘要：\"：{raw_text}')\n",
        "\n",
        "def get_translation(raw_text):\n",
        "  return call_google_apt(f'下列內容若為簡體中文請幫我轉為繁體中文，若為英文內容則回復原文即可：{raw_text}')\n",
        "\n",
        "def parse_result(api_rlt):\n",
        "  return api_rlt['candidates'][0]['content']['parts'][0]['text']"
      ],
      "metadata": {
        "id": "ag63x1dDmePB"
      },
      "execution_count": 9,
      "outputs": []
    },
    {
      "cell_type": "code",
      "source": [
        "for stt_text in results:\n",
        "  rlt = get_summary(stt_text)\n",
        "  print(rlt['candidates'][0]['content']['parts'][0]['text'])\n",
        "  time.sleep(1)"
      ],
      "metadata": {
        "id": "nE21-XNVqK7b",
        "colab": {
          "base_uri": "https://localhost:8080/"
        },
        "outputId": "b17fc6e1-d658-4083-df51-57ba7c64c07e"
      },
      "execution_count": 11,
      "outputs": [
        {
          "output_type": "stream",
          "name": "stdout",
          "text": [
            "response status_code: 200\n",
            "主題：信用卡\n",
            "摘要：陳先生信用卡遺失，客服協助他處理遺失卡的手續，並建議他通知相關方支付或授權付款，同時密切監控帳單，以確保沒有未授權的交易。\n",
            "response status_code: 200\n",
            "主題：基金\n",
            "\n",
            "摘要：顧客吳先生致電詢問其定期定額基金扣款是否成功，客服人員確認查證後，回覆吳先生扣款已成功完成。\n"
          ]
        }
      ]
    }
  ]
}