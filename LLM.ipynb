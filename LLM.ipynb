{
  "nbformat": 4,
  "nbformat_minor": 0,
  "metadata": {
    "colab": {
      "provenance": [],
      "gpuType": "T4",
      "authorship_tag": "ABX9TyNvx6moiAZ6X6G5+BNeLljY",
      "include_colab_link": true
    },
    "kernelspec": {
      "name": "python3",
      "display_name": "Python 3"
    },
    "language_info": {
      "name": "python"
    },
    "accelerator": "GPU"
  },
  "cells": [
    {
      "cell_type": "markdown",
      "metadata": {
        "id": "view-in-github",
        "colab_type": "text"
      },
      "source": [
        "<a href=\"https://colab.research.google.com/github/SWhite4han/LLM_based_Customer_Intent_Understanding-/blob/main/LLM.ipynb\" target=\"_parent\"><img src=\"https://colab.research.google.com/assets/colab-badge.svg\" alt=\"Open In Colab\"/></a>"
      ]
    },
    {
      "cell_type": "code",
      "execution_count": null,
      "metadata": {
        "id": "T6Qzf2OQv0ZN"
      },
      "outputs": [],
      "source": [
        "# Setup packages\n",
        "! pip install git+https://github.com/openai/whisper.git\n",
        "! python3 -m pip install pytextrank\n",
        "! python3 -m spacy download en_core_web_sm"
      ]
    },
    {
      "cell_type": "code",
      "source": [
        "# 上傳中文及英文測試語音檔案\n",
        "from google.colab import files as colab_files\n",
        "uploaded = colab_files.upload()\n",
        "files = []\n",
        "for f in uploaded.keys():\n",
        "  print('{name} with length {length} bytes'.format(name=f, length=len(uploaded[f])))\n",
        "  files.append(f)"
      ],
      "metadata": {
        "colab": {
          "base_uri": "https://localhost:8080/",
          "height": 144
        },
        "id": "FxtmiTCtzIqk",
        "outputId": "6eb20043-8b8c-4151-d9ae-9cb9911f528b"
      },
      "execution_count": 2,
      "outputs": [
        {
          "output_type": "display_data",
          "data": {
            "text/plain": [
              "<IPython.core.display.HTML object>"
            ],
            "text/html": [
              "\n",
              "     <input type=\"file\" id=\"files-af98bc2a-244b-40e7-ad1d-d1b5304080d8\" name=\"files[]\" multiple disabled\n",
              "        style=\"border:none\" />\n",
              "     <output id=\"result-af98bc2a-244b-40e7-ad1d-d1b5304080d8\">\n",
              "      Upload widget is only available when the cell has been executed in the\n",
              "      current browser session. Please rerun this cell to enable.\n",
              "      </output>\n",
              "      <script>// Copyright 2017 Google LLC\n",
              "//\n",
              "// Licensed under the Apache License, Version 2.0 (the \"License\");\n",
              "// you may not use this file except in compliance with the License.\n",
              "// You may obtain a copy of the License at\n",
              "//\n",
              "//      http://www.apache.org/licenses/LICENSE-2.0\n",
              "//\n",
              "// Unless required by applicable law or agreed to in writing, software\n",
              "// distributed under the License is distributed on an \"AS IS\" BASIS,\n",
              "// WITHOUT WARRANTIES OR CONDITIONS OF ANY KIND, either express or implied.\n",
              "// See the License for the specific language governing permissions and\n",
              "// limitations under the License.\n",
              "\n",
              "/**\n",
              " * @fileoverview Helpers for google.colab Python module.\n",
              " */\n",
              "(function(scope) {\n",
              "function span(text, styleAttributes = {}) {\n",
              "  const element = document.createElement('span');\n",
              "  element.textContent = text;\n",
              "  for (const key of Object.keys(styleAttributes)) {\n",
              "    element.style[key] = styleAttributes[key];\n",
              "  }\n",
              "  return element;\n",
              "}\n",
              "\n",
              "// Max number of bytes which will be uploaded at a time.\n",
              "const MAX_PAYLOAD_SIZE = 100 * 1024;\n",
              "\n",
              "function _uploadFiles(inputId, outputId) {\n",
              "  const steps = uploadFilesStep(inputId, outputId);\n",
              "  const outputElement = document.getElementById(outputId);\n",
              "  // Cache steps on the outputElement to make it available for the next call\n",
              "  // to uploadFilesContinue from Python.\n",
              "  outputElement.steps = steps;\n",
              "\n",
              "  return _uploadFilesContinue(outputId);\n",
              "}\n",
              "\n",
              "// This is roughly an async generator (not supported in the browser yet),\n",
              "// where there are multiple asynchronous steps and the Python side is going\n",
              "// to poll for completion of each step.\n",
              "// This uses a Promise to block the python side on completion of each step,\n",
              "// then passes the result of the previous step as the input to the next step.\n",
              "function _uploadFilesContinue(outputId) {\n",
              "  const outputElement = document.getElementById(outputId);\n",
              "  const steps = outputElement.steps;\n",
              "\n",
              "  const next = steps.next(outputElement.lastPromiseValue);\n",
              "  return Promise.resolve(next.value.promise).then((value) => {\n",
              "    // Cache the last promise value to make it available to the next\n",
              "    // step of the generator.\n",
              "    outputElement.lastPromiseValue = value;\n",
              "    return next.value.response;\n",
              "  });\n",
              "}\n",
              "\n",
              "/**\n",
              " * Generator function which is called between each async step of the upload\n",
              " * process.\n",
              " * @param {string} inputId Element ID of the input file picker element.\n",
              " * @param {string} outputId Element ID of the output display.\n",
              " * @return {!Iterable<!Object>} Iterable of next steps.\n",
              " */\n",
              "function* uploadFilesStep(inputId, outputId) {\n",
              "  const inputElement = document.getElementById(inputId);\n",
              "  inputElement.disabled = false;\n",
              "\n",
              "  const outputElement = document.getElementById(outputId);\n",
              "  outputElement.innerHTML = '';\n",
              "\n",
              "  const pickedPromise = new Promise((resolve) => {\n",
              "    inputElement.addEventListener('change', (e) => {\n",
              "      resolve(e.target.files);\n",
              "    });\n",
              "  });\n",
              "\n",
              "  const cancel = document.createElement('button');\n",
              "  inputElement.parentElement.appendChild(cancel);\n",
              "  cancel.textContent = 'Cancel upload';\n",
              "  const cancelPromise = new Promise((resolve) => {\n",
              "    cancel.onclick = () => {\n",
              "      resolve(null);\n",
              "    };\n",
              "  });\n",
              "\n",
              "  // Wait for the user to pick the files.\n",
              "  const files = yield {\n",
              "    promise: Promise.race([pickedPromise, cancelPromise]),\n",
              "    response: {\n",
              "      action: 'starting',\n",
              "    }\n",
              "  };\n",
              "\n",
              "  cancel.remove();\n",
              "\n",
              "  // Disable the input element since further picks are not allowed.\n",
              "  inputElement.disabled = true;\n",
              "\n",
              "  if (!files) {\n",
              "    return {\n",
              "      response: {\n",
              "        action: 'complete',\n",
              "      }\n",
              "    };\n",
              "  }\n",
              "\n",
              "  for (const file of files) {\n",
              "    const li = document.createElement('li');\n",
              "    li.append(span(file.name, {fontWeight: 'bold'}));\n",
              "    li.append(span(\n",
              "        `(${file.type || 'n/a'}) - ${file.size} bytes, ` +\n",
              "        `last modified: ${\n",
              "            file.lastModifiedDate ? file.lastModifiedDate.toLocaleDateString() :\n",
              "                                    'n/a'} - `));\n",
              "    const percent = span('0% done');\n",
              "    li.appendChild(percent);\n",
              "\n",
              "    outputElement.appendChild(li);\n",
              "\n",
              "    const fileDataPromise = new Promise((resolve) => {\n",
              "      const reader = new FileReader();\n",
              "      reader.onload = (e) => {\n",
              "        resolve(e.target.result);\n",
              "      };\n",
              "      reader.readAsArrayBuffer(file);\n",
              "    });\n",
              "    // Wait for the data to be ready.\n",
              "    let fileData = yield {\n",
              "      promise: fileDataPromise,\n",
              "      response: {\n",
              "        action: 'continue',\n",
              "      }\n",
              "    };\n",
              "\n",
              "    // Use a chunked sending to avoid message size limits. See b/62115660.\n",
              "    let position = 0;\n",
              "    do {\n",
              "      const length = Math.min(fileData.byteLength - position, MAX_PAYLOAD_SIZE);\n",
              "      const chunk = new Uint8Array(fileData, position, length);\n",
              "      position += length;\n",
              "\n",
              "      const base64 = btoa(String.fromCharCode.apply(null, chunk));\n",
              "      yield {\n",
              "        response: {\n",
              "          action: 'append',\n",
              "          file: file.name,\n",
              "          data: base64,\n",
              "        },\n",
              "      };\n",
              "\n",
              "      let percentDone = fileData.byteLength === 0 ?\n",
              "          100 :\n",
              "          Math.round((position / fileData.byteLength) * 100);\n",
              "      percent.textContent = `${percentDone}% done`;\n",
              "\n",
              "    } while (position < fileData.byteLength);\n",
              "  }\n",
              "\n",
              "  // All done.\n",
              "  yield {\n",
              "    response: {\n",
              "      action: 'complete',\n",
              "    }\n",
              "  };\n",
              "}\n",
              "\n",
              "scope.google = scope.google || {};\n",
              "scope.google.colab = scope.google.colab || {};\n",
              "scope.google.colab._files = {\n",
              "  _uploadFiles,\n",
              "  _uploadFilesContinue,\n",
              "};\n",
              "})(self);\n",
              "</script> "
            ]
          },
          "metadata": {}
        },
        {
          "output_type": "stream",
          "name": "stdout",
          "text": [
            "Saving ttsmaker-file-2024-2-1-21-42-44.mp3 to ttsmaker-file-2024-2-1-21-42-44.mp3\n",
            "Saving ttsmaker-file-2024-2-1-21-57-39.mp3 to ttsmaker-file-2024-2-1-21-57-39.mp3\n",
            "ttsmaker-file-2024-2-1-21-42-44.mp3 with length 609840 bytes\n",
            "ttsmaker-file-2024-2-1-21-57-39.mp3 with length 439200 bytes\n"
          ]
        }
      ]
    },
    {
      "cell_type": "markdown",
      "source": [
        "source\n",
        "\n",
        "\n",
        "*   https://huggingface.co/openai/whisper-tiny\n",
        "*   https://ttsmaker.com/zh-hk\n",
        "\n"
      ],
      "metadata": {
        "id": "gdBywRCApo-x"
      }
    },
    {
      "cell_type": "code",
      "source": [
        "import whisper\n",
        "# models:https://github.com/openai/whisper#available-models-and-languages\n",
        "# tiny, base, small, medium, large, large-v2, large-v3\n",
        "model = whisper.load_model('small')"
      ],
      "metadata": {
        "id": "axu5JN8XzD7z",
        "colab": {
          "base_uri": "https://localhost:8080/"
        },
        "outputId": "293b64b8-bd72-420b-928d-acb911307b70"
      },
      "execution_count": 3,
      "outputs": [
        {
          "output_type": "stream",
          "name": "stderr",
          "text": [
            "100%|████████████████████████████████████████| 461M/461M [00:03<00:00, 133MiB/s]\n"
          ]
        }
      ]
    },
    {
      "cell_type": "code",
      "source": [
        "import os\n",
        "\n",
        "results = []\n",
        "for f in files:\n",
        "  name = os.path.basename(f)\n",
        "  result = model.transcribe(name, prompt=\"您好，敝姓盧，很高興為您服務\")\n",
        "  results.append(result)\n",
        "results = [result['text'] for result in results]"
      ],
      "metadata": {
        "id": "NZ9v64IUDVHH"
      },
      "execution_count": 4,
      "outputs": []
    },
    {
      "cell_type": "code",
      "source": [
        "results"
      ],
      "metadata": {
        "colab": {
          "base_uri": "https://localhost:8080/"
        },
        "id": "x_sAgObzmlj4",
        "outputId": "bf39e7c6-3dd9-415c-8dc2-bc6b7a833f5a"
      },
      "execution_count": 8,
      "outputs": [
        {
          "output_type": "execute_result",
          "data": {
            "text/plain": [
              "['你好,必兴许,很高兴为你服务。你好,我发现我的信用卡不见了,我怀疑它可能遗失了。我应该怎么处理?你好,请问先生怎么称呼呢?而东辰。你好,陈先生,很抱歉,听到您的信用卡遗失了。我会协助您处理这个情况。首先,方便跟你合对一下基本资料吗?可以。请问陈先生身份证字后4号是多少呢?6977,好的,谢谢。谢谢。请问,最近信用卡缴款的地方在哪里呢?超商。好的,谢谢。请问陈先生您就读的国小是哪里呢?星星小学。谢谢,陈先生。我将会立即查取您的资料。看起来您的账户中有一笔可疑的交易,我们会将您的信用卡设位在未暂停以防止进一步的损失。同时,我们会为您办理信用卡遗失包案程序,并发送一张新的信用卡给您。好的,谢谢您的迅速处理。我还需要采取其他措施吗?是的,为了确保您的账户安全,建议您通知我们任何其他可能使用该卡的自动支付或授权付款。同时,请密切监控您的账单,以确保没有为授权的交易。我们还会为您寄送一封邮件,提供有关信用卡的详细信息,包括卡的到期日期和新的安全码。明白了,我会立即通知任何其他相关方。谢谢您的协助。不客气,陈先生。请问还有哪里需要为您服务的地方吗?没有了,谢谢。好的,如果你有其他问题或需要进一步的协助,请随时与我们联系。祝您顺心平安。谢谢,再见。',\n",
              " '为了维护双方的权益,本次对话我们将全程录音。谢谢。您好,必幸菜,很高兴为您服务。您好,我想询问一下我的定期定额基金扣款是否成功。您好,先生怎么称呼呢?口天无。吴先生您好,请问方便跟您合对一下基本资料吗?可以。请问吴先生身份政治后4号是多少呢?7749,好的,谢谢。请问近一期信用卡脚款的地方在哪里呢?超商。好的,谢谢。基本资料合对到这边,谢谢您的配合。请问吴先生的账户号码是多少?我的账户号码是00008888。谢谢,稍等一下,我查询一下您的账户资讯。我确认您的基金扣款已成功完成。感谢您的配合。请问还有哪里需要为您服务的地方吗?没有了,谢谢。很高兴能为您提供协助,有其他问题欢迎随时联络我们,谢谢。']"
            ]
          },
          "metadata": {},
          "execution_count": 8
        }
      ]
    },
    {
      "cell_type": "code",
      "source": [
        "result_trans = [get_translation(result) for result in results]"
      ],
      "metadata": {
        "colab": {
          "base_uri": "https://localhost:8080/"
        },
        "id": "zgRAPIlhFmn5",
        "outputId": "1f46cda8-e09e-4ed0-d6bd-0647de78fca3"
      },
      "execution_count": 9,
      "outputs": [
        {
          "output_type": "stream",
          "name": "stdout",
          "text": [
            "response status_code: 200\n",
            "response status_code: 200\n"
          ]
        }
      ]
    },
    {
      "cell_type": "code",
      "source": [
        "[doc['candidates'][0]['content']['parts'][0]['text'] for doc in result_trans]"
      ],
      "metadata": {
        "colab": {
          "base_uri": "https://localhost:8080/"
        },
        "id": "VULrYZetmYAW",
        "outputId": "cd49a269-2635-44d8-cdec-63d1836733a8"
      },
      "execution_count": 12,
      "outputs": [
        {
          "output_type": "execute_result",
          "data": {
            "text/plain": [
              "['您好，必興許，很樂意為您服務。您好，我發現我的信用卡不見了，我懷疑它可能遺失了。我應該怎麼處理？您好，請問先生怎麼稱呼呢？而東辰。您好，陳先生，很抱歉，聽到您的信用卡遺失了。我會協助您處理這情況。首先，方便跟你核對一下基本資料嗎？可以。請問陳先生身分證字號後4碼是多少呢？6977，好的，謝謝。謝謝。請問，最近信用卡繳款的地方在哪裡呢？超商。好的，謝謝。請問陳先生您就讀的國小是哪裡呢？星星小學。謝謝，陳先生。我將會立即查取您的資料。看起來您的帳戶中有一筆可疑的交易，我們會將您的信用卡設位在未暫停以防止進一步的損失。同時，我們會為您辦理信用卡遺失包案程序，並寄發一張新的信用卡給您。好的，謝謝您的迅速處理。我還需要採取其他措施嗎？是的，為了確保您的帳戶安全，建議您通知我們任何其他可能使用該卡的自動支付或授權付款。同時，請密切監控您的帳單，以確保沒有未授權的交易。我們還會為您寄送一封郵件，提供有關信用卡的詳細資訊，包括卡的到期日期和新的安全碼。明白了，我會立即通知任何其他相關方。謝謝您的協助。不客氣，陳先生。請問還有哪裡需要為您服務的地方嗎？沒有了，謝謝。好的，如果你有其他問題或需要進一步的協助，請隨時與我們聯繫。祝您順心平安。謝謝，再見。',\n",
              " '為了維護雙方的權益，本次對話我們將全程錄音。謝謝。您好，必幸菜，很高興為您服務。您好，我想詢問一下我的定期定額基金扣款是否成功。您好，先生怎麼稱呼呢？口天無。吳先生您好，請問方便跟您核對一下基本資料嗎？可以。請問吳先生身分證號碼後4碼是多少呢？7749，好的，謝謝。請問近一期信用卡繳款的地點在哪裡呢？超商。好的，謝謝。基本資料核對到這裡，謝謝您的配合。請問吳先生的帳戶號碼是多少？我的帳戶號碼是 00008888。謝謝，請稍等一下，我查詢一下您的帳戶資訊。我確認您的基金扣款已經成功完成。感謝您的配合。請問還有哪裡需要為您服務的嗎？沒有了，謝謝。很高興能為您提供協助，有其他問題歡迎隨時聯絡我們，謝謝。']"
            ]
          },
          "metadata": {},
          "execution_count": 12
        }
      ]
    },
    {
      "cell_type": "markdown",
      "source": [
        "# 非LLM摘要嘗試\n",
        "\n",
        "*   CKIP(X)\n",
        "*   jieba(X)\n",
        "*   TEXTRANK:https://blog.pulipuli.info/2022/04/introduction-to-textrank.html\n",
        "\n",
        "\n",
        "\n"
      ],
      "metadata": {
        "id": "doEKWB5pml5L"
      }
    },
    {
      "cell_type": "markdown",
      "source": [],
      "metadata": {
        "id": "IdIwgGf4mq5e"
      }
    },
    {
      "cell_type": "code",
      "source": [
        "# import jieba\n",
        "# from jieba import analyse\n",
        "\n",
        "# # [信用卡|信貸|房貸|基金]\n",
        "# for result in results:\n",
        "#   print(analyse.extract_tags(result, topK=10, withWeight=False))"
      ],
      "metadata": {
        "colab": {
          "base_uri": "https://localhost:8080/"
        },
        "id": "PmuoqsDRO878",
        "outputId": "cca38dba-8e23-4ad8-8e88-375caa7ac6af"
      },
      "execution_count": null,
      "outputs": [
        {
          "output_type": "stream",
          "name": "stderr",
          "text": [
            "Building prefix dict from the default dictionary ...\n",
            "DEBUG:jieba:Building prefix dict from the default dictionary ...\n",
            "Dumping model to file cache /tmp/jieba.cache\n",
            "DEBUG:jieba:Dumping model to file cache /tmp/jieba.cache\n",
            "Loading model cost 0.964 seconds.\n",
            "DEBUG:jieba:Loading model cost 0.964 seconds.\n",
            "Prefix dict has been built successfully.\n",
            "DEBUG:jieba:Prefix dict has been built successfully.\n"
          ]
        },
        {
          "output_type": "stream",
          "name": "stdout",
          "text": [
            "[('信用卡', 0.3499392278174699), ('陈先生', 0.2845280227626506), ('谢谢', 0.26648384581987955), ('请问', 0.22804086585692773), ('你好', 0.1917561030566265)]\n",
            "[('谢谢', 0.4607949833968751), ('请问', 0.39432066387760417), ('您好', 0.36375806903916663), ('吴先生', 0.29519782361625), ('为您服务', 0.24905765631041665)]\n"
          ]
        }
      ]
    },
    {
      "cell_type": "code",
      "source": [
        "def replace_punctuation(text):\n",
        "  text = text.replace(',', ',')\n",
        "  text = text.replace('。', '.')\n",
        "  text = text.replace('！', '!')\n",
        "  text = text.replace('？', '?')\n",
        "  text = text.replace('；', ';')\n",
        "  text = text.replace('：', ':')\n",
        "  return text\n",
        "\n",
        "def replace_space(text):\n",
        "  text = text.replace(',', ' ')\n",
        "  text = text.replace('。', ' ')\n",
        "  text = text.replace('！', ' ')\n",
        "  text = text.replace('？', ' ')\n",
        "  text = text.replace('；', ' ')\n",
        "  text = text.replace('：', ' ')\n",
        "  text = text.replace(',', ' ')\n",
        "  text = text.replace('.', ' ')\n",
        "  text = text.replace('!', ' ')\n",
        "  text = text.replace('?', ' ')\n",
        "  text = text.replace(';', ' ')\n",
        "  text = text.replace(':', ' ')\n",
        "  return text"
      ],
      "metadata": {
        "id": "ktV1x-6YhtkT"
      },
      "execution_count": null,
      "outputs": []
    },
    {
      "cell_type": "code",
      "source": [
        "# Txet Rank from: https://github.com/pulipulichen/blog-pulipuli-info-data-2020-2025/blob/main/22/04/pytextrank/textrank-practice.py\n",
        "# Configuration\n",
        "output_phrases_count = 5\n",
        "output_sentences_count = 3\n",
        "\n",
        "import spacy\n",
        "import pytextrank\n",
        "\n",
        "# load a spaCy model, depending on language, scale, etc.\n",
        "nlp = spacy.load(\"en_core_web_sm\")\n",
        "# add PyTextRank to the spaCy pipeline\n",
        "nlp.add_pipe(\"textrank\")\n",
        "\n",
        "# -----------\n",
        "doc = nlp(replace_punctuation(results[0]))\n",
        "\n",
        "# Construct a list of the sentence boundaries with a phrase vector (initialized to empty set) for each...\n",
        "sent_bounds = [ [s.start, s.end, set([])] for s in doc.sents ]\n",
        "\n",
        "\n",
        "# Iterate through the top-ranked phrases, added them to the phrase vector for each sentence...\n",
        "phrase_id = 0\n",
        "unit_vector = []\n",
        "phrases = []\n",
        "sents = []\n",
        "for p in doc._.phrases:\n",
        "    unit_vector.append(p.rank)\n",
        "    for chunk in p.chunks:\n",
        "        for sent_start, sent_end, sent_vector in sent_bounds:\n",
        "            if chunk.start >= sent_start and chunk.end <= sent_end:\n",
        "                sent_vector.add(phrase_id)\n",
        "                break\n",
        "    phrase_id += 1\n",
        "    phrases.append(p.text)\n",
        "    if phrase_id == output_phrases_count:\n",
        "        break\n",
        "\n",
        "from math import sqrt\n",
        "\n",
        "sent_rank = {}\n",
        "sent_id = 0\n",
        "for sent_start, sent_end, sent_vector in sent_bounds:\n",
        "    sum_sq = 0.0\n",
        "    for phrase_id in range(len(unit_vector)):\n",
        "\n",
        "        if phrase_id not in sent_vector:\n",
        "            sum_sq += unit_vector[phrase_id]**2.0\n",
        "\n",
        "    sent_rank[sent_id] = sqrt(sum_sq)\n",
        "    sent_id += 1\n",
        "\n",
        "\n",
        "# Sort the sentence indexes in descending order\n",
        "from operator import itemgetter\n",
        "\n",
        "sorted(sent_rank.items(), key=itemgetter(1))\n",
        "\n",
        "# Extract the sentences with the lowest distance, up to the limit requested...\n",
        "sent_text = {}\n",
        "sent_id = 0\n",
        "for sent in doc.sents:\n",
        "    sent_text[sent_id] = sent.text\n",
        "    sent_id += 1\n",
        "\n",
        "num_sent = 0\n",
        "for sent_id, rank in sorted(sent_rank.items(), key=itemgetter(1)):\n",
        "    sents.append(sent_text[sent_id])\n",
        "    num_sent += 1\n",
        "\n",
        "    if num_sent == output_sentences_count:\n",
        "        break\n"
      ],
      "metadata": {
        "id": "mB5798E56udF"
      },
      "execution_count": null,
      "outputs": []
    },
    {
      "cell_type": "code",
      "source": [
        "print('\\n'.join(sents))"
      ],
      "metadata": {
        "colab": {
          "base_uri": "https://localhost:8080/"
        },
        "id": "w2j7tgskkTG_",
        "outputId": "c852a925-3402-456b-d8dd-c6a8e6cddb1c"
      },
      "execution_count": null,
      "outputs": [
        {
          "output_type": "stream",
          "name": "stdout",
          "text": [
            "请问陈先生身份证字后4号是多少呢?6977,好的,谢谢.谢谢.请问,最近信用卡缴款的地方在哪里呢?超商.好的,谢谢.请问陈先生您就读的国小是哪里呢?星星小学.谢谢,陈先生.我将会立即查取您的资料.\n",
            "不客气,陈先生.请问还有哪里需要为您服务的地方吗?没有了,谢谢.好的,如果你有其他问题或需要进一步的协助,请随时与我们联系.\n",
            "同时,我们会为您办理信用卡遗失包案程序,并发送一张新的信用卡给您.好的,谢谢您的迅速处理.\n"
          ]
        }
      ]
    },
    {
      "cell_type": "code",
      "source": [
        "phrases"
      ],
      "metadata": {
        "colab": {
          "base_uri": "https://localhost:8080/"
        },
        "id": "08_PqQYreGmc",
        "outputId": "1c1bdbe5-20f7-4884-d657-68bd03ce4f17"
      },
      "execution_count": null,
      "outputs": [
        {
          "output_type": "execute_result",
          "data": {
            "text/plain": [
              "['谢谢.好的', '.好的', '并发送一张新的信用卡给您.好的', '方便跟你合对一下基本资料吗?可以.', '谢谢']"
            ]
          },
          "metadata": {},
          "execution_count": 44
        }
      ]
    },
    {
      "cell_type": "markdown",
      "source": [
        "# LLM 摘要\n",
        "\n",
        "function:\n",
        "*   Making a API call from Google AI with prompt\n",
        "\n",
        "\n",
        "\n",
        "source:\n",
        "*   https://blog.jiatool.com/posts/gemini_api/\n",
        "*   https://github.com/GoogleCloudPlatform/generative-ai/blob/main/gemini/use-cases/education/use_cases_for_education.ipynb\n",
        "\n",
        "\n",
        "\n",
        "\n"
      ],
      "metadata": {
        "id": "Dq19vD-kmfkY"
      }
    },
    {
      "cell_type": "code",
      "source": [
        "import json\n",
        "import requests\n",
        "import time\n",
        "from google.colab import userdata\n",
        "\n",
        "\n",
        "def call_google_apt(target_text):\n",
        "  #print(target_text)\n",
        "  url = f\"https://generativelanguage.googleapis.com/v1/models/gemini-pro:generateContent?key={userdata.get('API_KEY')}\"\n",
        "  headers = {'Content-Type': 'application/json'}\n",
        "  data = {\n",
        "      \"contents\": [\n",
        "          {\n",
        "              \"parts\": [{\"text\": target_text}]\n",
        "          }\n",
        "      ]\n",
        "  }\n",
        "  response = requests.post(url, headers=headers, json=data)\n",
        "  print(f\"response status_code: {response.status_code}\")\n",
        "  return response.json() #json.dumps(response.json(), indent=4, ensure_ascii=False)\n",
        "\n",
        "def get_summary(raw_text):\n",
        "  return call_google_apt(f'請閱讀下列電話客服與客戶之間的對話內容，從[信用卡|信貸|房貸|基金]中選出客戶的詢問意圖比較符合的金融商品主題，並做出對話內容以內的繁體中文摘要。回答格式\"主題：\"\\n\"摘要：\"：{raw_text}')\n",
        "\n",
        "def get_translation(raw_text):\n",
        "  return call_google_apt(f'下列內容若為簡體中文請幫我轉為繁體中文，若為英文內容則回復原文即可：{raw_text}')\n",
        "\n",
        "def parse_result(api_rlt):\n",
        "  return api_rlt['candidates'][0]['content']['parts'][0]['text']"
      ],
      "metadata": {
        "id": "ag63x1dDmePB"
      },
      "execution_count": 6,
      "outputs": []
    },
    {
      "cell_type": "code",
      "source": [
        "for stt_text in results:\n",
        "  rlt = get_summary(stt_text)\n",
        "  print(rlt['candidates'][0]['content']['parts'][0]['text'])\n",
        "  time.sleep(1)"
      ],
      "metadata": {
        "id": "nE21-XNVqK7b",
        "colab": {
          "base_uri": "https://localhost:8080/"
        },
        "outputId": "b17fc6e1-d658-4083-df51-57ba7c64c07e"
      },
      "execution_count": 11,
      "outputs": [
        {
          "output_type": "stream",
          "name": "stdout",
          "text": [
            "response status_code: 200\n",
            "主題：信用卡\n",
            "摘要：陳先生信用卡遺失，客服協助他處理遺失卡的手續，並建議他通知相關方支付或授權付款，同時密切監控帳單，以確保沒有未授權的交易。\n",
            "response status_code: 200\n",
            "主題：基金\n",
            "\n",
            "摘要：顧客吳先生致電詢問其定期定額基金扣款是否成功，客服人員確認查證後，回覆吳先生扣款已成功完成。\n"
          ]
        }
      ]
    }
  ]
}